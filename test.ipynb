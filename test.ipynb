{
 "cells": [
  {
   "cell_type": "code",
   "execution_count": 2,
   "metadata": {},
   "outputs": [],
   "source": [
    "import os\n",
    "from glob import glob as glob\n",
    "import pandas as pd"
   ]
  },
  {
   "cell_type": "code",
   "execution_count": 3,
   "metadata": {},
   "outputs": [],
   "source": [
    "output_dir = '/lab_data/behrmannlab/image_sets/stylized-ecoset/train/0001_man'"
   ]
  },
  {
   "cell_type": "code",
   "execution_count": 5,
   "metadata": {},
   "outputs": [],
   "source": [
    "#glob files in outfolder\n",
    "out_files = glob(f'{output_dir}/*.*')\n",
    "im_list  = pd.DataFrame(out_files, columns=['file_name'])\n",
    "\n",
    "#extract original, pre-style, filenames\n",
    "outfile_list = im_list['file_name'].str.split('-stylized-', expand=True) #extract original filename\n",
    "outfile_list = outfile_list.iloc[:,0].str.split('/', expand=True) #extract only target file\n",
    "outfile_list = outfile_list.iloc[:,outfile_list.shape[1]-1]"
   ]
  },
  {
   "cell_type": "code",
   "execution_count": 7,
   "metadata": {},
   "outputs": [
    {
     "data": {
      "text/plain": [
       "True"
      ]
     },
     "execution_count": 7,
     "metadata": {},
     "output_type": "execute_result"
    }
   ],
   "source": [
    "file = 'bing_man_2372.jpg'\n",
    "\n",
    "#strip suffix from file\n",
    "file = file.split('.')[0]\n",
    "\n",
    "#check if file exists in list\n",
    "outfile_list.str.contains(file).any()\n",
    "\n",
    "\n",
    "\n"
   ]
  },
  {
   "cell_type": "code",
   "execution_count": null,
   "metadata": {},
   "outputs": [],
   "source": []
  }
 ],
 "metadata": {
  "kernelspec": {
   "display_name": "ml",
   "language": "python",
   "name": "python3"
  },
  "language_info": {
   "codemirror_mode": {
    "name": "ipython",
    "version": 3
   },
   "file_extension": ".py",
   "mimetype": "text/x-python",
   "name": "python",
   "nbconvert_exporter": "python",
   "pygments_lexer": "ipython3",
   "version": "3.9.16"
  },
  "orig_nbformat": 4
 },
 "nbformat": 4,
 "nbformat_minor": 2
}
